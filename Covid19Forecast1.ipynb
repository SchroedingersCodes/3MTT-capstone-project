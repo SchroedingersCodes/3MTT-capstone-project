{
 "cells": [
  {
   "cell_type": "code",
   "execution_count": 1,
   "id": "bce2506e-d5cc-49c5-bcd6-51a2622f096f",
   "metadata": {},
   "outputs": [],
   "source": [
    "import pandas as pd\n",
    "import numpy as np \n",
    "import matplotlib.pyplot as plt \n",
    "import seaborn as sns "
   ]
  },
  {
   "cell_type": "code",
   "execution_count": 3,
   "id": "bfdf61ed-b36f-4acd-bf1e-7ed15729cf40",
   "metadata": {},
   "outputs": [
    {
     "data": {
      "text/html": [
       "<div>\n",
       "<style scoped>\n",
       "    .dataframe tbody tr th:only-of-type {\n",
       "        vertical-align: middle;\n",
       "    }\n",
       "\n",
       "    .dataframe tbody tr th {\n",
       "        vertical-align: top;\n",
       "    }\n",
       "\n",
       "    .dataframe thead th {\n",
       "        text-align: right;\n",
       "    }\n",
       "</style>\n",
       "<table border=\"1\" class=\"dataframe\">\n",
       "  <thead>\n",
       "    <tr style=\"text-align: right;\">\n",
       "      <th></th>\n",
       "      <th>Unnamed: 0</th>\n",
       "      <th>Date</th>\n",
       "      <th>Country/Region</th>\n",
       "      <th>Lat</th>\n",
       "      <th>Long</th>\n",
       "      <th>Confirmed</th>\n",
       "      <th>Deaths</th>\n",
       "      <th>Recovered</th>\n",
       "      <th>Active</th>\n",
       "    </tr>\n",
       "  </thead>\n",
       "  <tbody>\n",
       "    <tr>\n",
       "      <th>0</th>\n",
       "      <td>0</td>\n",
       "      <td>2020-01-22</td>\n",
       "      <td>Afghanistan</td>\n",
       "      <td>33.93911</td>\n",
       "      <td>67.709953</td>\n",
       "      <td>0</td>\n",
       "      <td>0</td>\n",
       "      <td>0</td>\n",
       "      <td>0</td>\n",
       "    </tr>\n",
       "    <tr>\n",
       "      <th>1</th>\n",
       "      <td>1</td>\n",
       "      <td>2020-01-22</td>\n",
       "      <td>Albania</td>\n",
       "      <td>41.15330</td>\n",
       "      <td>20.168300</td>\n",
       "      <td>0</td>\n",
       "      <td>0</td>\n",
       "      <td>0</td>\n",
       "      <td>0</td>\n",
       "    </tr>\n",
       "    <tr>\n",
       "      <th>2</th>\n",
       "      <td>2</td>\n",
       "      <td>2020-01-22</td>\n",
       "      <td>Algeria</td>\n",
       "      <td>28.03390</td>\n",
       "      <td>1.659600</td>\n",
       "      <td>0</td>\n",
       "      <td>0</td>\n",
       "      <td>0</td>\n",
       "      <td>0</td>\n",
       "    </tr>\n",
       "    <tr>\n",
       "      <th>3</th>\n",
       "      <td>3</td>\n",
       "      <td>2020-01-22</td>\n",
       "      <td>Andorra</td>\n",
       "      <td>42.50630</td>\n",
       "      <td>1.521800</td>\n",
       "      <td>0</td>\n",
       "      <td>0</td>\n",
       "      <td>0</td>\n",
       "      <td>0</td>\n",
       "    </tr>\n",
       "    <tr>\n",
       "      <th>4</th>\n",
       "      <td>4</td>\n",
       "      <td>2020-01-22</td>\n",
       "      <td>Angola</td>\n",
       "      <td>-11.20270</td>\n",
       "      <td>17.873900</td>\n",
       "      <td>0</td>\n",
       "      <td>0</td>\n",
       "      <td>0</td>\n",
       "      <td>0</td>\n",
       "    </tr>\n",
       "  </tbody>\n",
       "</table>\n",
       "</div>"
      ],
      "text/plain": [
       "   Unnamed: 0        Date Country/Region       Lat       Long  Confirmed  \\\n",
       "0           0  2020-01-22    Afghanistan  33.93911  67.709953          0   \n",
       "1           1  2020-01-22        Albania  41.15330  20.168300          0   \n",
       "2           2  2020-01-22        Algeria  28.03390   1.659600          0   \n",
       "3           3  2020-01-22        Andorra  42.50630   1.521800          0   \n",
       "4           4  2020-01-22         Angola -11.20270  17.873900          0   \n",
       "\n",
       "   Deaths  Recovered  Active  \n",
       "0       0          0       0  \n",
       "1       0          0       0  \n",
       "2       0          0       0  \n",
       "3       0          0       0  \n",
       "4       0          0       0  "
      ]
     },
     "execution_count": 3,
     "metadata": {},
     "output_type": "execute_result"
    }
   ],
   "source": [
    "df = pd.read_csv('aggregated covid19 data.csv')\n",
    "df.head()"
   ]
  },
  {
   "cell_type": "code",
   "execution_count": 7,
   "id": "f98e030c-83d2-4fb6-b655-516ebe0d53d3",
   "metadata": {},
   "outputs": [
    {
     "data": {
      "text/plain": [
       "(35156, 9)"
      ]
     },
     "execution_count": 7,
     "metadata": {},
     "output_type": "execute_result"
    }
   ],
   "source": [
    "df.shape"
   ]
  },
  {
   "cell_type": "code",
   "execution_count": 9,
   "id": "9eab4937-83a4-4e56-bc67-d00cb6118e01",
   "metadata": {},
   "outputs": [
    {
     "data": {
      "text/plain": [
       "316404"
      ]
     },
     "execution_count": 9,
     "metadata": {},
     "output_type": "execute_result"
    }
   ],
   "source": [
    "df.size"
   ]
  },
  {
   "cell_type": "code",
   "execution_count": 13,
   "id": "d2e598a7-79e6-4861-a0d8-06edef45e2d4",
   "metadata": {},
   "outputs": [
    {
     "name": "stdout",
     "output_type": "stream",
     "text": [
      "<class 'pandas.core.frame.DataFrame'>\n",
      "RangeIndex: 35156 entries, 0 to 35155\n",
      "Data columns (total 9 columns):\n",
      " #   Column          Non-Null Count  Dtype  \n",
      "---  ------          --------------  -----  \n",
      " 0   Unnamed: 0      35156 non-null  int64  \n",
      " 1   Date            35156 non-null  object \n",
      " 2   Country/Region  35156 non-null  object \n",
      " 3   Lat             35156 non-null  float64\n",
      " 4   Long            35156 non-null  float64\n",
      " 5   Confirmed       35156 non-null  int64  \n",
      " 6   Deaths          35156 non-null  int64  \n",
      " 7   Recovered       35156 non-null  int64  \n",
      " 8   Active          35156 non-null  int64  \n",
      "dtypes: float64(2), int64(5), object(2)\n",
      "memory usage: 2.4+ MB\n"
     ]
    }
   ],
   "source": [
    "df.info()"
   ]
  },
  {
   "cell_type": "code",
   "execution_count": 15,
   "id": "228f15c9-211d-4e36-bb0f-5368b4cfcc5b",
   "metadata": {},
   "outputs": [
    {
     "data": {
      "text/html": [
       "<div>\n",
       "<style scoped>\n",
       "    .dataframe tbody tr th:only-of-type {\n",
       "        vertical-align: middle;\n",
       "    }\n",
       "\n",
       "    .dataframe tbody tr th {\n",
       "        vertical-align: top;\n",
       "    }\n",
       "\n",
       "    .dataframe thead th {\n",
       "        text-align: right;\n",
       "    }\n",
       "</style>\n",
       "<table border=\"1\" class=\"dataframe\">\n",
       "  <thead>\n",
       "    <tr style=\"text-align: right;\">\n",
       "      <th></th>\n",
       "      <th>Date</th>\n",
       "      <th>Confirmed</th>\n",
       "      <th>Active</th>\n",
       "      <th>Recovered</th>\n",
       "      <th>Deaths</th>\n",
       "    </tr>\n",
       "  </thead>\n",
       "  <tbody>\n",
       "    <tr>\n",
       "      <th>0</th>\n",
       "      <td>2020-01-22</td>\n",
       "      <td>555</td>\n",
       "      <td>510</td>\n",
       "      <td>28</td>\n",
       "      <td>17</td>\n",
       "    </tr>\n",
       "    <tr>\n",
       "      <th>1</th>\n",
       "      <td>2020-01-23</td>\n",
       "      <td>654</td>\n",
       "      <td>606</td>\n",
       "      <td>30</td>\n",
       "      <td>18</td>\n",
       "    </tr>\n",
       "    <tr>\n",
       "      <th>2</th>\n",
       "      <td>2020-01-24</td>\n",
       "      <td>941</td>\n",
       "      <td>879</td>\n",
       "      <td>36</td>\n",
       "      <td>26</td>\n",
       "    </tr>\n",
       "    <tr>\n",
       "      <th>3</th>\n",
       "      <td>2020-01-25</td>\n",
       "      <td>1434</td>\n",
       "      <td>1353</td>\n",
       "      <td>39</td>\n",
       "      <td>42</td>\n",
       "    </tr>\n",
       "    <tr>\n",
       "      <th>4</th>\n",
       "      <td>2020-01-26</td>\n",
       "      <td>2118</td>\n",
       "      <td>2010</td>\n",
       "      <td>52</td>\n",
       "      <td>56</td>\n",
       "    </tr>\n",
       "  </tbody>\n",
       "</table>\n",
       "</div>"
      ],
      "text/plain": [
       "         Date  Confirmed  Active  Recovered  Deaths\n",
       "0  2020-01-22        555     510         28      17\n",
       "1  2020-01-23        654     606         30      18\n",
       "2  2020-01-24        941     879         36      26\n",
       "3  2020-01-25       1434    1353         39      42\n",
       "4  2020-01-26       2118    2010         52      56"
      ]
     },
     "execution_count": 15,
     "metadata": {},
     "output_type": "execute_result"
    }
   ],
   "source": [
    "# Group by Date and compute daily totals\n",
    "dtdf = df.groupby(\"Date\").agg({\n",
    "    \"Confirmed\": \"sum\",\n",
    "    \"Active\": \"sum\",\n",
    "    \"Recovered\": \"sum\",\n",
    "    \"Deaths\": \"sum\"\n",
    "}).reset_index()\n",
    "\n",
    "# Sort by date for chronological order\n",
    "dtdf = dtdf.sort_values(by=\"Date\").reset_index(drop=True)\n",
    "\n",
    "# Preview the aggregated daily totals\n",
    "dtdf.head()"
   ]
  },
  {
   "cell_type": "code",
   "execution_count": 17,
   "id": "910f5696-3d69-4322-b568-947a7c4d4313",
   "metadata": {},
   "outputs": [
    {
     "data": {
      "text/plain": [
       "RangeIndex(start=0, stop=188, step=1)"
      ]
     },
     "execution_count": 17,
     "metadata": {},
     "output_type": "execute_result"
    }
   ],
   "source": [
    "dtdf.index"
   ]
  },
  {
   "cell_type": "code",
   "execution_count": 19,
   "id": "8acb6ab2-494b-464a-bc58-991373daaa99",
   "metadata": {},
   "outputs": [
    {
     "data": {
      "text/plain": [
       "Index(['Unnamed: 0', 'Date', 'Country/Region', 'Lat', 'Long', 'Confirmed',\n",
       "       'Deaths', 'Recovered', 'Active'],\n",
       "      dtype='object')"
      ]
     },
     "execution_count": 19,
     "metadata": {},
     "output_type": "execute_result"
    }
   ],
   "source": [
    "df.columns"
   ]
  },
  {
   "cell_type": "code",
   "execution_count": 21,
   "id": "1617bed1-65cb-46b1-932d-78f5894313b3",
   "metadata": {},
   "outputs": [
    {
     "data": {
      "text/html": [
       "<div>\n",
       "<style scoped>\n",
       "    .dataframe tbody tr th:only-of-type {\n",
       "        vertical-align: middle;\n",
       "    }\n",
       "\n",
       "    .dataframe tbody tr th {\n",
       "        vertical-align: top;\n",
       "    }\n",
       "\n",
       "    .dataframe thead th {\n",
       "        text-align: right;\n",
       "    }\n",
       "</style>\n",
       "<table border=\"1\" class=\"dataframe\">\n",
       "  <thead>\n",
       "    <tr style=\"text-align: right;\">\n",
       "      <th></th>\n",
       "      <th>Confirmed</th>\n",
       "      <th>Active</th>\n",
       "      <th>Recovered</th>\n",
       "      <th>Deaths</th>\n",
       "    </tr>\n",
       "    <tr>\n",
       "      <th>Date</th>\n",
       "      <th></th>\n",
       "      <th></th>\n",
       "      <th></th>\n",
       "      <th></th>\n",
       "    </tr>\n",
       "  </thead>\n",
       "  <tbody>\n",
       "    <tr>\n",
       "      <th>2020-01-22</th>\n",
       "      <td>555</td>\n",
       "      <td>510</td>\n",
       "      <td>28</td>\n",
       "      <td>17</td>\n",
       "    </tr>\n",
       "    <tr>\n",
       "      <th>2020-01-23</th>\n",
       "      <td>654</td>\n",
       "      <td>606</td>\n",
       "      <td>30</td>\n",
       "      <td>18</td>\n",
       "    </tr>\n",
       "    <tr>\n",
       "      <th>2020-01-24</th>\n",
       "      <td>941</td>\n",
       "      <td>879</td>\n",
       "      <td>36</td>\n",
       "      <td>26</td>\n",
       "    </tr>\n",
       "    <tr>\n",
       "      <th>2020-01-25</th>\n",
       "      <td>1434</td>\n",
       "      <td>1353</td>\n",
       "      <td>39</td>\n",
       "      <td>42</td>\n",
       "    </tr>\n",
       "    <tr>\n",
       "      <th>2020-01-26</th>\n",
       "      <td>2118</td>\n",
       "      <td>2010</td>\n",
       "      <td>52</td>\n",
       "      <td>56</td>\n",
       "    </tr>\n",
       "  </tbody>\n",
       "</table>\n",
       "</div>"
      ],
      "text/plain": [
       "            Confirmed  Active  Recovered  Deaths\n",
       "Date                                            \n",
       "2020-01-22        555     510         28      17\n",
       "2020-01-23        654     606         30      18\n",
       "2020-01-24        941     879         36      26\n",
       "2020-01-25       1434    1353         39      42\n",
       "2020-01-26       2118    2010         52      56"
      ]
     },
     "execution_count": 21,
     "metadata": {},
     "output_type": "execute_result"
    }
   ],
   "source": [
    "dtdf.set_index('Date', inplace=True)\n",
    "dtdf.head()"
   ]
  },
  {
   "cell_type": "code",
   "execution_count": 23,
   "id": "bd310066-85ea-4e45-8573-a13390976f15",
   "metadata": {},
   "outputs": [
    {
     "data": {
      "text/plain": [
       "Confirmed    0\n",
       "Active       0\n",
       "Recovered    0\n",
       "Deaths       0\n",
       "dtype: int64"
      ]
     },
     "execution_count": 23,
     "metadata": {},
     "output_type": "execute_result"
    }
   ],
   "source": [
    "dtdf.isnull().sum()"
   ]
  },
  {
   "cell_type": "code",
   "execution_count": 25,
   "id": "263cfb61-35df-4f4b-85fc-b78137971bae",
   "metadata": {},
   "outputs": [
    {
     "name": "stdout",
     "output_type": "stream",
     "text": [
      "\n",
      "Stationarity Check for Confirmed:\n",
      "ADF Statistic: -12.5774092245716\n",
      "p-value: 1.943692446942312e-23\n",
      "Critical Values:\n",
      "   1%: -3.430536291930778\n",
      "   5%: -2.861622336437604\n",
      "   10%: -2.566813825096627\n",
      "The series is stationary.\n",
      "\n",
      "Stationarity Check for Active:\n",
      "ADF Statistic: -17.792113766274383\n",
      "p-value: 3.244011063333879e-30\n",
      "Critical Values:\n",
      "   1%: -3.4305363025455717\n",
      "   5%: -2.861622341128934\n",
      "   10%: -2.5668138275937\n",
      "The series is stationary.\n",
      "\n",
      "Stationarity Check for Recovered:\n",
      "ADF Statistic: -10.365240016772647\n",
      "p-value: 2.339625146584055e-18\n",
      "Critical Values:\n",
      "   1%: -3.4305363025455717\n",
      "   5%: -2.861622341128934\n",
      "   10%: -2.5668138275937\n",
      "The series is stationary.\n",
      "\n",
      "Stationarity Check for Deaths:\n",
      "ADF Statistic: -16.6715895422123\n",
      "p-value: 1.5432677717832978e-29\n",
      "Critical Values:\n",
      "   1%: -3.4305363025455717\n",
      "   5%: -2.861622341128934\n",
      "   10%: -2.5668138275937\n",
      "The series is stationary.\n"
     ]
    }
   ],
   "source": [
    "from statsmodels.tsa.stattools import adfuller\n",
    "\n",
    "# Function to perform ADF test\n",
    "def check_stationarity(series):\n",
    "    result = adfuller(series)\n",
    "    print(f\"ADF Statistic: {result[0]}\")\n",
    "    print(f\"p-value: {result[1]}\")\n",
    "    print(\"Critical Values:\")\n",
    "    for key, value in result[4].items():\n",
    "        print(f\"   {key}: {value}\")\n",
    "    if result[1] < 0.05:\n",
    "        print(\"The series is stationary.\")\n",
    "    else:\n",
    "        print(\"The series is non-stationary.\")\n",
    "\n",
    "# Example usage for each variable\n",
    "variables = ['Confirmed', 'Active', 'Recovered', 'Deaths']\n",
    "for var in variables:\n",
    "    print(f\"\\nStationarity Check for {var}:\")\n",
    "    check_stationarity(df[var])\n"
   ]
  },
  {
   "cell_type": "code",
   "execution_count": 27,
   "id": "3cb93c2e-193d-483f-b6d4-3639e6fd22f5",
   "metadata": {},
   "outputs": [
    {
     "name": "stderr",
     "output_type": "stream",
     "text": [
      "C:\\ProgramData\\anaconda3\\Lib\\site-packages\\statsmodels\\tsa\\base\\tsa_model.py:473: ValueWarning: No frequency information was provided, so inferred frequency D will be used.\n",
      "  self._init_dates(dates, freq)\n"
     ]
    },
    {
     "ename": "LinAlgError",
     "evalue": "4-th leading minor of the array is not positive definite",
     "output_type": "error",
     "traceback": [
      "\u001b[1;31m---------------------------------------------------------------------------\u001b[0m",
      "\u001b[1;31mLinAlgError\u001b[0m                               Traceback (most recent call last)",
      "Cell \u001b[1;32mIn[27], line 7\u001b[0m\n\u001b[0;32m      4\u001b[0m model \u001b[38;5;241m=\u001b[39m VAR(dtdf)\n\u001b[0;32m      6\u001b[0m \u001b[38;5;66;03m# Select the optimal lag order\u001b[39;00m\n\u001b[1;32m----> 7\u001b[0m lag_order_results \u001b[38;5;241m=\u001b[39m model\u001b[38;5;241m.\u001b[39mselect_order(maxlags\u001b[38;5;241m=\u001b[39m\u001b[38;5;241m15\u001b[39m)\n\u001b[0;32m      9\u001b[0m \u001b[38;5;66;03m# Display the results\u001b[39;00m\n\u001b[0;32m     10\u001b[0m \u001b[38;5;28mprint\u001b[39m(\u001b[38;5;124m\"\u001b[39m\u001b[38;5;124mSelected Lag Order by AIC:\u001b[39m\u001b[38;5;124m\"\u001b[39m, lag_order_results\u001b[38;5;241m.\u001b[39maic)\n",
      "File \u001b[1;32mC:\\ProgramData\\anaconda3\\Lib\\site-packages\\statsmodels\\tsa\\vector_ar\\var_model.py:823\u001b[0m, in \u001b[0;36mVAR.select_order\u001b[1;34m(self, maxlags, trend)\u001b[0m\n\u001b[0;32m    818\u001b[0m \u001b[38;5;28;01mfor\u001b[39;00m p \u001b[38;5;129;01min\u001b[39;00m \u001b[38;5;28mrange\u001b[39m(p_min, maxlags \u001b[38;5;241m+\u001b[39m \u001b[38;5;241m1\u001b[39m):\n\u001b[0;32m    819\u001b[0m     \u001b[38;5;66;03m# exclude some periods to same amount of data used for each lag\u001b[39;00m\n\u001b[0;32m    820\u001b[0m     \u001b[38;5;66;03m# order\u001b[39;00m\n\u001b[0;32m    821\u001b[0m     result \u001b[38;5;241m=\u001b[39m \u001b[38;5;28mself\u001b[39m\u001b[38;5;241m.\u001b[39m_estimate_var(p, offset\u001b[38;5;241m=\u001b[39mmaxlags \u001b[38;5;241m-\u001b[39m p, trend\u001b[38;5;241m=\u001b[39mtrend)\n\u001b[1;32m--> 823\u001b[0m     \u001b[38;5;28;01mfor\u001b[39;00m k, v \u001b[38;5;129;01min\u001b[39;00m result\u001b[38;5;241m.\u001b[39minfo_criteria\u001b[38;5;241m.\u001b[39mitems():\n\u001b[0;32m    824\u001b[0m         ics[k]\u001b[38;5;241m.\u001b[39mappend(v)\n\u001b[0;32m    826\u001b[0m selected_orders \u001b[38;5;241m=\u001b[39m {\n\u001b[0;32m    827\u001b[0m     k: np\u001b[38;5;241m.\u001b[39marray(v)\u001b[38;5;241m.\u001b[39margmin() \u001b[38;5;241m+\u001b[39m p_min \u001b[38;5;28;01mfor\u001b[39;00m k, v \u001b[38;5;129;01min\u001b[39;00m ics\u001b[38;5;241m.\u001b[39mitems()\n\u001b[0;32m    828\u001b[0m }\n",
      "File \u001b[1;32mC:\\ProgramData\\anaconda3\\Lib\\site-packages\\statsmodels\\base\\wrapper.py:34\u001b[0m, in \u001b[0;36mResultsWrapper.__getattribute__\u001b[1;34m(self, attr)\u001b[0m\n\u001b[0;32m     31\u001b[0m \u001b[38;5;28;01mexcept\u001b[39;00m \u001b[38;5;167;01mAttributeError\u001b[39;00m:\n\u001b[0;32m     32\u001b[0m     \u001b[38;5;28;01mpass\u001b[39;00m\n\u001b[1;32m---> 34\u001b[0m obj \u001b[38;5;241m=\u001b[39m \u001b[38;5;28mgetattr\u001b[39m(results, attr)\n\u001b[0;32m     35\u001b[0m data \u001b[38;5;241m=\u001b[39m results\u001b[38;5;241m.\u001b[39mmodel\u001b[38;5;241m.\u001b[39mdata\n\u001b[0;32m     36\u001b[0m how \u001b[38;5;241m=\u001b[39m \u001b[38;5;28mself\u001b[39m\u001b[38;5;241m.\u001b[39m_wrap_attrs\u001b[38;5;241m.\u001b[39mget(attr)\n",
      "File \u001b[1;32mproperties.pyx:36\u001b[0m, in \u001b[0;36mpandas._libs.properties.CachedProperty.__get__\u001b[1;34m()\u001b[0m\n",
      "File \u001b[1;32mC:\\ProgramData\\anaconda3\\Lib\\site-packages\\statsmodels\\tsa\\vector_ar\\var_model.py:2289\u001b[0m, in \u001b[0;36mVARResults.info_criteria\u001b[1;34m(self)\u001b[0m\n\u001b[0;32m   2287\u001b[0m free_params \u001b[38;5;241m=\u001b[39m lag_order \u001b[38;5;241m*\u001b[39m neqs \u001b[38;5;241m*\u001b[39m\u001b[38;5;241m*\u001b[39m \u001b[38;5;241m2\u001b[39m \u001b[38;5;241m+\u001b[39m neqs \u001b[38;5;241m*\u001b[39m \u001b[38;5;28mself\u001b[39m\u001b[38;5;241m.\u001b[39mk_exog\n\u001b[0;32m   2288\u001b[0m \u001b[38;5;28;01mif\u001b[39;00m \u001b[38;5;28mself\u001b[39m\u001b[38;5;241m.\u001b[39mdf_resid:\n\u001b[1;32m-> 2289\u001b[0m     ld \u001b[38;5;241m=\u001b[39m logdet_symm(\u001b[38;5;28mself\u001b[39m\u001b[38;5;241m.\u001b[39msigma_u_mle)\n\u001b[0;32m   2290\u001b[0m \u001b[38;5;28;01melse\u001b[39;00m:\n\u001b[0;32m   2291\u001b[0m     ld \u001b[38;5;241m=\u001b[39m \u001b[38;5;241m-\u001b[39mnp\u001b[38;5;241m.\u001b[39minf\n",
      "File \u001b[1;32mC:\\ProgramData\\anaconda3\\Lib\\site-packages\\statsmodels\\tools\\linalg.py:28\u001b[0m, in \u001b[0;36mlogdet_symm\u001b[1;34m(m, check_symm)\u001b[0m\n\u001b[0;32m     26\u001b[0m     \u001b[38;5;28;01mif\u001b[39;00m \u001b[38;5;129;01mnot\u001b[39;00m np\u001b[38;5;241m.\u001b[39mall(m \u001b[38;5;241m==\u001b[39m m\u001b[38;5;241m.\u001b[39mT):  \u001b[38;5;66;03m# would be nice to short-circuit check\u001b[39;00m\n\u001b[0;32m     27\u001b[0m         \u001b[38;5;28;01mraise\u001b[39;00m \u001b[38;5;167;01mValueError\u001b[39;00m(\u001b[38;5;124m\"\u001b[39m\u001b[38;5;124mm is not symmetric.\u001b[39m\u001b[38;5;124m\"\u001b[39m)\n\u001b[1;32m---> 28\u001b[0m c, _ \u001b[38;5;241m=\u001b[39m linalg\u001b[38;5;241m.\u001b[39mcho_factor(m, lower\u001b[38;5;241m=\u001b[39m\u001b[38;5;28;01mTrue\u001b[39;00m)\n\u001b[0;32m     29\u001b[0m \u001b[38;5;28;01mreturn\u001b[39;00m \u001b[38;5;241m2\u001b[39m\u001b[38;5;241m*\u001b[39mnp\u001b[38;5;241m.\u001b[39msum(np\u001b[38;5;241m.\u001b[39mlog(c\u001b[38;5;241m.\u001b[39mdiagonal()))\n",
      "File \u001b[1;32mC:\\ProgramData\\anaconda3\\Lib\\site-packages\\scipy\\linalg\\_decomp_cholesky.py:153\u001b[0m, in \u001b[0;36mcho_factor\u001b[1;34m(a, lower, overwrite_a, check_finite)\u001b[0m\n\u001b[0;32m     93\u001b[0m \u001b[38;5;28;01mdef\u001b[39;00m \u001b[38;5;21mcho_factor\u001b[39m(a, lower\u001b[38;5;241m=\u001b[39m\u001b[38;5;28;01mFalse\u001b[39;00m, overwrite_a\u001b[38;5;241m=\u001b[39m\u001b[38;5;28;01mFalse\u001b[39;00m, check_finite\u001b[38;5;241m=\u001b[39m\u001b[38;5;28;01mTrue\u001b[39;00m):\n\u001b[0;32m     94\u001b[0m \u001b[38;5;250m    \u001b[39m\u001b[38;5;124;03m\"\"\"\u001b[39;00m\n\u001b[0;32m     95\u001b[0m \u001b[38;5;124;03m    Compute the Cholesky decomposition of a matrix, to use in cho_solve\u001b[39;00m\n\u001b[0;32m     96\u001b[0m \n\u001b[1;32m   (...)\u001b[0m\n\u001b[0;32m    151\u001b[0m \n\u001b[0;32m    152\u001b[0m \u001b[38;5;124;03m    \"\"\"\u001b[39;00m\n\u001b[1;32m--> 153\u001b[0m     c, lower \u001b[38;5;241m=\u001b[39m _cholesky(a, lower\u001b[38;5;241m=\u001b[39mlower, overwrite_a\u001b[38;5;241m=\u001b[39moverwrite_a, clean\u001b[38;5;241m=\u001b[39m\u001b[38;5;28;01mFalse\u001b[39;00m,\n\u001b[0;32m    154\u001b[0m                          check_finite\u001b[38;5;241m=\u001b[39mcheck_finite)\n\u001b[0;32m    155\u001b[0m     \u001b[38;5;28;01mreturn\u001b[39;00m c, lower\n",
      "File \u001b[1;32mC:\\ProgramData\\anaconda3\\Lib\\site-packages\\scipy\\linalg\\_decomp_cholesky.py:36\u001b[0m, in \u001b[0;36m_cholesky\u001b[1;34m(a, lower, overwrite_a, clean, check_finite)\u001b[0m\n\u001b[0;32m     34\u001b[0m c, info \u001b[38;5;241m=\u001b[39m potrf(a1, lower\u001b[38;5;241m=\u001b[39mlower, overwrite_a\u001b[38;5;241m=\u001b[39moverwrite_a, clean\u001b[38;5;241m=\u001b[39mclean)\n\u001b[0;32m     35\u001b[0m \u001b[38;5;28;01mif\u001b[39;00m info \u001b[38;5;241m>\u001b[39m \u001b[38;5;241m0\u001b[39m:\n\u001b[1;32m---> 36\u001b[0m     \u001b[38;5;28;01mraise\u001b[39;00m LinAlgError(\u001b[38;5;124m\"\u001b[39m\u001b[38;5;132;01m%d\u001b[39;00m\u001b[38;5;124m-th leading minor of the array is not positive \u001b[39m\u001b[38;5;124m\"\u001b[39m\n\u001b[0;32m     37\u001b[0m                       \u001b[38;5;124m\"\u001b[39m\u001b[38;5;124mdefinite\u001b[39m\u001b[38;5;124m\"\u001b[39m \u001b[38;5;241m%\u001b[39m info)\n\u001b[0;32m     38\u001b[0m \u001b[38;5;28;01mif\u001b[39;00m info \u001b[38;5;241m<\u001b[39m \u001b[38;5;241m0\u001b[39m:\n\u001b[0;32m     39\u001b[0m     \u001b[38;5;28;01mraise\u001b[39;00m \u001b[38;5;167;01mValueError\u001b[39;00m(\u001b[38;5;124mf\u001b[39m\u001b[38;5;124m'\u001b[39m\u001b[38;5;124mLAPACK reported an illegal value in \u001b[39m\u001b[38;5;132;01m{\u001b[39;00m\u001b[38;5;241m-\u001b[39minfo\u001b[38;5;132;01m}\u001b[39;00m\u001b[38;5;124m-th argument\u001b[39m\u001b[38;5;124m'\u001b[39m\n\u001b[0;32m     40\u001b[0m                      \u001b[38;5;124m'\u001b[39m\u001b[38;5;124mon entry to \u001b[39m\u001b[38;5;124m\"\u001b[39m\u001b[38;5;124mPOTRF\u001b[39m\u001b[38;5;124m\"\u001b[39m\u001b[38;5;124m.\u001b[39m\u001b[38;5;124m'\u001b[39m)\n",
      "\u001b[1;31mLinAlgError\u001b[0m: 4-th leading minor of the array is not positive definite"
     ]
    }
   ],
   "source": [
    "from statsmodels.tsa.api import VAR\n",
    "\n",
    "# Instantiate the VAR model with the aggregated data\n",
    "model = VAR(dtdf)\n",
    "\n",
    "# Select the optimal lag order\n",
    "lag_order_results = model.select_order(maxlags=15)\n",
    "\n",
    "# Display the results\n",
    "print(\"Selected Lag Order by AIC:\", lag_order_results.aic)\n",
    "print(\"Selected Lag Order by BIC:\", lag_order_results.bic)\n",
    "print(\"\\nFull Summary:\")\n",
    "print(lag_order_results.summary())"
   ]
  },
  {
   "cell_type": "code",
   "execution_count": 29,
   "id": "c6044348-57e2-4ff7-9024-7881ae595036",
   "metadata": {},
   "outputs": [
    {
     "data": {
      "text/plain": [
       "Confirmed    0\n",
       "Active       0\n",
       "Recovered    0\n",
       "Deaths       0\n",
       "dtype: int64"
      ]
     },
     "execution_count": 29,
     "metadata": {},
     "output_type": "execute_result"
    }
   ],
   "source": [
    "np.isinf(dtdf).sum()"
   ]
  },
  {
   "cell_type": "code",
   "execution_count": 39,
   "id": "b6311651-26d9-4d4e-baa4-de3a53f108c9",
   "metadata": {},
   "outputs": [
    {
     "name": "stderr",
     "output_type": "stream",
     "text": [
      "C:\\ProgramData\\anaconda3\\Lib\\site-packages\\statsmodels\\tsa\\base\\tsa_model.py:473: ValueWarning: No frequency information was provided, so inferred frequency D will be used.\n",
      "  self._init_dates(dates, freq)\n"
     ]
    },
    {
     "ename": "LinAlgError",
     "evalue": "4-th leading minor of the array is not positive definite",
     "output_type": "error",
     "traceback": [
      "\u001b[1;31m---------------------------------------------------------------------------\u001b[0m",
      "\u001b[1;31mLinAlgError\u001b[0m                               Traceback (most recent call last)",
      "Cell \u001b[1;32mIn[39], line 7\u001b[0m\n\u001b[0;32m      4\u001b[0m model \u001b[38;5;241m=\u001b[39m VAR(dtdf)\n\u001b[0;32m      6\u001b[0m \u001b[38;5;66;03m# Select the optimal lag order\u001b[39;00m\n\u001b[1;32m----> 7\u001b[0m lag_order_results \u001b[38;5;241m=\u001b[39m model\u001b[38;5;241m.\u001b[39mselect_order(maxlags\u001b[38;5;241m=\u001b[39m\u001b[38;5;241m2\u001b[39m)\n\u001b[0;32m      9\u001b[0m \u001b[38;5;66;03m# Display the results\u001b[39;00m\n\u001b[0;32m     10\u001b[0m \u001b[38;5;28mprint\u001b[39m(\u001b[38;5;124m\"\u001b[39m\u001b[38;5;124mSelected Lag Order by AIC:\u001b[39m\u001b[38;5;124m\"\u001b[39m, lag_order_results\u001b[38;5;241m.\u001b[39maic)\n",
      "File \u001b[1;32mC:\\ProgramData\\anaconda3\\Lib\\site-packages\\statsmodels\\tsa\\vector_ar\\var_model.py:823\u001b[0m, in \u001b[0;36mVAR.select_order\u001b[1;34m(self, maxlags, trend)\u001b[0m\n\u001b[0;32m    818\u001b[0m \u001b[38;5;28;01mfor\u001b[39;00m p \u001b[38;5;129;01min\u001b[39;00m \u001b[38;5;28mrange\u001b[39m(p_min, maxlags \u001b[38;5;241m+\u001b[39m \u001b[38;5;241m1\u001b[39m):\n\u001b[0;32m    819\u001b[0m     \u001b[38;5;66;03m# exclude some periods to same amount of data used for each lag\u001b[39;00m\n\u001b[0;32m    820\u001b[0m     \u001b[38;5;66;03m# order\u001b[39;00m\n\u001b[0;32m    821\u001b[0m     result \u001b[38;5;241m=\u001b[39m \u001b[38;5;28mself\u001b[39m\u001b[38;5;241m.\u001b[39m_estimate_var(p, offset\u001b[38;5;241m=\u001b[39mmaxlags \u001b[38;5;241m-\u001b[39m p, trend\u001b[38;5;241m=\u001b[39mtrend)\n\u001b[1;32m--> 823\u001b[0m     \u001b[38;5;28;01mfor\u001b[39;00m k, v \u001b[38;5;129;01min\u001b[39;00m result\u001b[38;5;241m.\u001b[39minfo_criteria\u001b[38;5;241m.\u001b[39mitems():\n\u001b[0;32m    824\u001b[0m         ics[k]\u001b[38;5;241m.\u001b[39mappend(v)\n\u001b[0;32m    826\u001b[0m selected_orders \u001b[38;5;241m=\u001b[39m {\n\u001b[0;32m    827\u001b[0m     k: np\u001b[38;5;241m.\u001b[39marray(v)\u001b[38;5;241m.\u001b[39margmin() \u001b[38;5;241m+\u001b[39m p_min \u001b[38;5;28;01mfor\u001b[39;00m k, v \u001b[38;5;129;01min\u001b[39;00m ics\u001b[38;5;241m.\u001b[39mitems()\n\u001b[0;32m    828\u001b[0m }\n",
      "File \u001b[1;32mC:\\ProgramData\\anaconda3\\Lib\\site-packages\\statsmodels\\base\\wrapper.py:34\u001b[0m, in \u001b[0;36mResultsWrapper.__getattribute__\u001b[1;34m(self, attr)\u001b[0m\n\u001b[0;32m     31\u001b[0m \u001b[38;5;28;01mexcept\u001b[39;00m \u001b[38;5;167;01mAttributeError\u001b[39;00m:\n\u001b[0;32m     32\u001b[0m     \u001b[38;5;28;01mpass\u001b[39;00m\n\u001b[1;32m---> 34\u001b[0m obj \u001b[38;5;241m=\u001b[39m \u001b[38;5;28mgetattr\u001b[39m(results, attr)\n\u001b[0;32m     35\u001b[0m data \u001b[38;5;241m=\u001b[39m results\u001b[38;5;241m.\u001b[39mmodel\u001b[38;5;241m.\u001b[39mdata\n\u001b[0;32m     36\u001b[0m how \u001b[38;5;241m=\u001b[39m \u001b[38;5;28mself\u001b[39m\u001b[38;5;241m.\u001b[39m_wrap_attrs\u001b[38;5;241m.\u001b[39mget(attr)\n",
      "File \u001b[1;32mproperties.pyx:36\u001b[0m, in \u001b[0;36mpandas._libs.properties.CachedProperty.__get__\u001b[1;34m()\u001b[0m\n",
      "File \u001b[1;32mC:\\ProgramData\\anaconda3\\Lib\\site-packages\\statsmodels\\tsa\\vector_ar\\var_model.py:2289\u001b[0m, in \u001b[0;36mVARResults.info_criteria\u001b[1;34m(self)\u001b[0m\n\u001b[0;32m   2287\u001b[0m free_params \u001b[38;5;241m=\u001b[39m lag_order \u001b[38;5;241m*\u001b[39m neqs \u001b[38;5;241m*\u001b[39m\u001b[38;5;241m*\u001b[39m \u001b[38;5;241m2\u001b[39m \u001b[38;5;241m+\u001b[39m neqs \u001b[38;5;241m*\u001b[39m \u001b[38;5;28mself\u001b[39m\u001b[38;5;241m.\u001b[39mk_exog\n\u001b[0;32m   2288\u001b[0m \u001b[38;5;28;01mif\u001b[39;00m \u001b[38;5;28mself\u001b[39m\u001b[38;5;241m.\u001b[39mdf_resid:\n\u001b[1;32m-> 2289\u001b[0m     ld \u001b[38;5;241m=\u001b[39m logdet_symm(\u001b[38;5;28mself\u001b[39m\u001b[38;5;241m.\u001b[39msigma_u_mle)\n\u001b[0;32m   2290\u001b[0m \u001b[38;5;28;01melse\u001b[39;00m:\n\u001b[0;32m   2291\u001b[0m     ld \u001b[38;5;241m=\u001b[39m \u001b[38;5;241m-\u001b[39mnp\u001b[38;5;241m.\u001b[39minf\n",
      "File \u001b[1;32mC:\\ProgramData\\anaconda3\\Lib\\site-packages\\statsmodels\\tools\\linalg.py:28\u001b[0m, in \u001b[0;36mlogdet_symm\u001b[1;34m(m, check_symm)\u001b[0m\n\u001b[0;32m     26\u001b[0m     \u001b[38;5;28;01mif\u001b[39;00m \u001b[38;5;129;01mnot\u001b[39;00m np\u001b[38;5;241m.\u001b[39mall(m \u001b[38;5;241m==\u001b[39m m\u001b[38;5;241m.\u001b[39mT):  \u001b[38;5;66;03m# would be nice to short-circuit check\u001b[39;00m\n\u001b[0;32m     27\u001b[0m         \u001b[38;5;28;01mraise\u001b[39;00m \u001b[38;5;167;01mValueError\u001b[39;00m(\u001b[38;5;124m\"\u001b[39m\u001b[38;5;124mm is not symmetric.\u001b[39m\u001b[38;5;124m\"\u001b[39m)\n\u001b[1;32m---> 28\u001b[0m c, _ \u001b[38;5;241m=\u001b[39m linalg\u001b[38;5;241m.\u001b[39mcho_factor(m, lower\u001b[38;5;241m=\u001b[39m\u001b[38;5;28;01mTrue\u001b[39;00m)\n\u001b[0;32m     29\u001b[0m \u001b[38;5;28;01mreturn\u001b[39;00m \u001b[38;5;241m2\u001b[39m\u001b[38;5;241m*\u001b[39mnp\u001b[38;5;241m.\u001b[39msum(np\u001b[38;5;241m.\u001b[39mlog(c\u001b[38;5;241m.\u001b[39mdiagonal()))\n",
      "File \u001b[1;32mC:\\ProgramData\\anaconda3\\Lib\\site-packages\\scipy\\linalg\\_decomp_cholesky.py:153\u001b[0m, in \u001b[0;36mcho_factor\u001b[1;34m(a, lower, overwrite_a, check_finite)\u001b[0m\n\u001b[0;32m     93\u001b[0m \u001b[38;5;28;01mdef\u001b[39;00m \u001b[38;5;21mcho_factor\u001b[39m(a, lower\u001b[38;5;241m=\u001b[39m\u001b[38;5;28;01mFalse\u001b[39;00m, overwrite_a\u001b[38;5;241m=\u001b[39m\u001b[38;5;28;01mFalse\u001b[39;00m, check_finite\u001b[38;5;241m=\u001b[39m\u001b[38;5;28;01mTrue\u001b[39;00m):\n\u001b[0;32m     94\u001b[0m \u001b[38;5;250m    \u001b[39m\u001b[38;5;124;03m\"\"\"\u001b[39;00m\n\u001b[0;32m     95\u001b[0m \u001b[38;5;124;03m    Compute the Cholesky decomposition of a matrix, to use in cho_solve\u001b[39;00m\n\u001b[0;32m     96\u001b[0m \n\u001b[1;32m   (...)\u001b[0m\n\u001b[0;32m    151\u001b[0m \n\u001b[0;32m    152\u001b[0m \u001b[38;5;124;03m    \"\"\"\u001b[39;00m\n\u001b[1;32m--> 153\u001b[0m     c, lower \u001b[38;5;241m=\u001b[39m _cholesky(a, lower\u001b[38;5;241m=\u001b[39mlower, overwrite_a\u001b[38;5;241m=\u001b[39moverwrite_a, clean\u001b[38;5;241m=\u001b[39m\u001b[38;5;28;01mFalse\u001b[39;00m,\n\u001b[0;32m    154\u001b[0m                          check_finite\u001b[38;5;241m=\u001b[39mcheck_finite)\n\u001b[0;32m    155\u001b[0m     \u001b[38;5;28;01mreturn\u001b[39;00m c, lower\n",
      "File \u001b[1;32mC:\\ProgramData\\anaconda3\\Lib\\site-packages\\scipy\\linalg\\_decomp_cholesky.py:36\u001b[0m, in \u001b[0;36m_cholesky\u001b[1;34m(a, lower, overwrite_a, clean, check_finite)\u001b[0m\n\u001b[0;32m     34\u001b[0m c, info \u001b[38;5;241m=\u001b[39m potrf(a1, lower\u001b[38;5;241m=\u001b[39mlower, overwrite_a\u001b[38;5;241m=\u001b[39moverwrite_a, clean\u001b[38;5;241m=\u001b[39mclean)\n\u001b[0;32m     35\u001b[0m \u001b[38;5;28;01mif\u001b[39;00m info \u001b[38;5;241m>\u001b[39m \u001b[38;5;241m0\u001b[39m:\n\u001b[1;32m---> 36\u001b[0m     \u001b[38;5;28;01mraise\u001b[39;00m LinAlgError(\u001b[38;5;124m\"\u001b[39m\u001b[38;5;132;01m%d\u001b[39;00m\u001b[38;5;124m-th leading minor of the array is not positive \u001b[39m\u001b[38;5;124m\"\u001b[39m\n\u001b[0;32m     37\u001b[0m                       \u001b[38;5;124m\"\u001b[39m\u001b[38;5;124mdefinite\u001b[39m\u001b[38;5;124m\"\u001b[39m \u001b[38;5;241m%\u001b[39m info)\n\u001b[0;32m     38\u001b[0m \u001b[38;5;28;01mif\u001b[39;00m info \u001b[38;5;241m<\u001b[39m \u001b[38;5;241m0\u001b[39m:\n\u001b[0;32m     39\u001b[0m     \u001b[38;5;28;01mraise\u001b[39;00m \u001b[38;5;167;01mValueError\u001b[39;00m(\u001b[38;5;124mf\u001b[39m\u001b[38;5;124m'\u001b[39m\u001b[38;5;124mLAPACK reported an illegal value in \u001b[39m\u001b[38;5;132;01m{\u001b[39;00m\u001b[38;5;241m-\u001b[39minfo\u001b[38;5;132;01m}\u001b[39;00m\u001b[38;5;124m-th argument\u001b[39m\u001b[38;5;124m'\u001b[39m\n\u001b[0;32m     40\u001b[0m                      \u001b[38;5;124m'\u001b[39m\u001b[38;5;124mon entry to \u001b[39m\u001b[38;5;124m\"\u001b[39m\u001b[38;5;124mPOTRF\u001b[39m\u001b[38;5;124m\"\u001b[39m\u001b[38;5;124m.\u001b[39m\u001b[38;5;124m'\u001b[39m)\n",
      "\u001b[1;31mLinAlgError\u001b[0m: 4-th leading minor of the array is not positive definite"
     ]
    }
   ],
   "source": [
    "from statsmodels.tsa.api import VAR\n",
    "\n",
    "# Instantiate the VAR model with the aggregated data\n",
    "model = VAR(dtdf)\n",
    "\n",
    "# Select the optimal lag order\n",
    "lag_order_results = model.select_order(maxlags=2)\n",
    "\n",
    "# Display the results\n",
    "print(\"Selected Lag Order by AIC:\", lag_order_results.aic)\n",
    "print(\"Selected Lag Order by BIC:\", lag_order_results.bic)\n",
    "print(\"\\nFull Summary:\")\n",
    "print(lag_order_results.summary())"
   ]
  },
  {
   "cell_type": "code",
   "execution_count": 33,
   "id": "edf1cd30-697b-4268-826b-4dc948118b62",
   "metadata": {},
   "outputs": [
    {
     "data": {
      "text/html": [
       "<div>\n",
       "<style scoped>\n",
       "    .dataframe tbody tr th:only-of-type {\n",
       "        vertical-align: middle;\n",
       "    }\n",
       "\n",
       "    .dataframe tbody tr th {\n",
       "        vertical-align: top;\n",
       "    }\n",
       "\n",
       "    .dataframe thead th {\n",
       "        text-align: right;\n",
       "    }\n",
       "</style>\n",
       "<table border=\"1\" class=\"dataframe\">\n",
       "  <thead>\n",
       "    <tr style=\"text-align: right;\">\n",
       "      <th></th>\n",
       "      <th>Confirmed</th>\n",
       "      <th>Active</th>\n",
       "      <th>Recovered</th>\n",
       "      <th>Deaths</th>\n",
       "    </tr>\n",
       "  </thead>\n",
       "  <tbody>\n",
       "    <tr>\n",
       "      <th>Confirmed</th>\n",
       "      <td>1.000000</td>\n",
       "      <td>0.986543</td>\n",
       "      <td>0.990165</td>\n",
       "      <td>0.975981</td>\n",
       "    </tr>\n",
       "    <tr>\n",
       "      <th>Active</th>\n",
       "      <td>0.986543</td>\n",
       "      <td>1.000000</td>\n",
       "      <td>0.953981</td>\n",
       "      <td>0.996879</td>\n",
       "    </tr>\n",
       "    <tr>\n",
       "      <th>Recovered</th>\n",
       "      <td>0.990165</td>\n",
       "      <td>0.953981</td>\n",
       "      <td>1.000000</td>\n",
       "      <td>0.936940</td>\n",
       "    </tr>\n",
       "    <tr>\n",
       "      <th>Deaths</th>\n",
       "      <td>0.975981</td>\n",
       "      <td>0.996879</td>\n",
       "      <td>0.936940</td>\n",
       "      <td>1.000000</td>\n",
       "    </tr>\n",
       "  </tbody>\n",
       "</table>\n",
       "</div>"
      ],
      "text/plain": [
       "           Confirmed    Active  Recovered    Deaths\n",
       "Confirmed   1.000000  0.986543   0.990165  0.975981\n",
       "Active      0.986543  1.000000   0.953981  0.996879\n",
       "Recovered   0.990165  0.953981   1.000000  0.936940\n",
       "Deaths      0.975981  0.996879   0.936940  1.000000"
      ]
     },
     "execution_count": 33,
     "metadata": {},
     "output_type": "execute_result"
    }
   ],
   "source": [
    "correlation_matrix = dtdf.corr()\n",
    "correlation_matrix"
   ]
  },
  {
   "cell_type": "code",
   "execution_count": 47,
   "id": "fc348738-d550-41be-afa7-f3e21cd101fe",
   "metadata": {},
   "outputs": [
    {
     "ename": "KeyError",
     "evalue": "\"['Active'] not found in axis\"",
     "output_type": "error",
     "traceback": [
      "\u001b[1;31m---------------------------------------------------------------------------\u001b[0m",
      "\u001b[1;31mKeyError\u001b[0m                                  Traceback (most recent call last)",
      "Cell \u001b[1;32mIn[47], line 1\u001b[0m\n\u001b[1;32m----> 1\u001b[0m dtdf \u001b[38;5;241m=\u001b[39m dtdf\u001b[38;5;241m.\u001b[39mdrop(columns\u001b[38;5;241m=\u001b[39m[\u001b[38;5;124m'\u001b[39m\u001b[38;5;124mActive\u001b[39m\u001b[38;5;124m'\u001b[39m])\n\u001b[0;32m      2\u001b[0m dtdf\u001b[38;5;241m.\u001b[39mhead()\n",
      "File \u001b[1;32mC:\\ProgramData\\anaconda3\\Lib\\site-packages\\pandas\\core\\frame.py:5581\u001b[0m, in \u001b[0;36mDataFrame.drop\u001b[1;34m(self, labels, axis, index, columns, level, inplace, errors)\u001b[0m\n\u001b[0;32m   5433\u001b[0m \u001b[38;5;28;01mdef\u001b[39;00m \u001b[38;5;21mdrop\u001b[39m(\n\u001b[0;32m   5434\u001b[0m     \u001b[38;5;28mself\u001b[39m,\n\u001b[0;32m   5435\u001b[0m     labels: IndexLabel \u001b[38;5;241m|\u001b[39m \u001b[38;5;28;01mNone\u001b[39;00m \u001b[38;5;241m=\u001b[39m \u001b[38;5;28;01mNone\u001b[39;00m,\n\u001b[1;32m   (...)\u001b[0m\n\u001b[0;32m   5442\u001b[0m     errors: IgnoreRaise \u001b[38;5;241m=\u001b[39m \u001b[38;5;124m\"\u001b[39m\u001b[38;5;124mraise\u001b[39m\u001b[38;5;124m\"\u001b[39m,\n\u001b[0;32m   5443\u001b[0m ) \u001b[38;5;241m-\u001b[39m\u001b[38;5;241m>\u001b[39m DataFrame \u001b[38;5;241m|\u001b[39m \u001b[38;5;28;01mNone\u001b[39;00m:\n\u001b[0;32m   5444\u001b[0m \u001b[38;5;250m    \u001b[39m\u001b[38;5;124;03m\"\"\"\u001b[39;00m\n\u001b[0;32m   5445\u001b[0m \u001b[38;5;124;03m    Drop specified labels from rows or columns.\u001b[39;00m\n\u001b[0;32m   5446\u001b[0m \n\u001b[1;32m   (...)\u001b[0m\n\u001b[0;32m   5579\u001b[0m \u001b[38;5;124;03m            weight  1.0     0.8\u001b[39;00m\n\u001b[0;32m   5580\u001b[0m \u001b[38;5;124;03m    \"\"\"\u001b[39;00m\n\u001b[1;32m-> 5581\u001b[0m     \u001b[38;5;28;01mreturn\u001b[39;00m \u001b[38;5;28msuper\u001b[39m()\u001b[38;5;241m.\u001b[39mdrop(\n\u001b[0;32m   5582\u001b[0m         labels\u001b[38;5;241m=\u001b[39mlabels,\n\u001b[0;32m   5583\u001b[0m         axis\u001b[38;5;241m=\u001b[39maxis,\n\u001b[0;32m   5584\u001b[0m         index\u001b[38;5;241m=\u001b[39mindex,\n\u001b[0;32m   5585\u001b[0m         columns\u001b[38;5;241m=\u001b[39mcolumns,\n\u001b[0;32m   5586\u001b[0m         level\u001b[38;5;241m=\u001b[39mlevel,\n\u001b[0;32m   5587\u001b[0m         inplace\u001b[38;5;241m=\u001b[39minplace,\n\u001b[0;32m   5588\u001b[0m         errors\u001b[38;5;241m=\u001b[39merrors,\n\u001b[0;32m   5589\u001b[0m     )\n",
      "File \u001b[1;32mC:\\ProgramData\\anaconda3\\Lib\\site-packages\\pandas\\core\\generic.py:4788\u001b[0m, in \u001b[0;36mNDFrame.drop\u001b[1;34m(self, labels, axis, index, columns, level, inplace, errors)\u001b[0m\n\u001b[0;32m   4786\u001b[0m \u001b[38;5;28;01mfor\u001b[39;00m axis, labels \u001b[38;5;129;01min\u001b[39;00m axes\u001b[38;5;241m.\u001b[39mitems():\n\u001b[0;32m   4787\u001b[0m     \u001b[38;5;28;01mif\u001b[39;00m labels \u001b[38;5;129;01mis\u001b[39;00m \u001b[38;5;129;01mnot\u001b[39;00m \u001b[38;5;28;01mNone\u001b[39;00m:\n\u001b[1;32m-> 4788\u001b[0m         obj \u001b[38;5;241m=\u001b[39m obj\u001b[38;5;241m.\u001b[39m_drop_axis(labels, axis, level\u001b[38;5;241m=\u001b[39mlevel, errors\u001b[38;5;241m=\u001b[39merrors)\n\u001b[0;32m   4790\u001b[0m \u001b[38;5;28;01mif\u001b[39;00m inplace:\n\u001b[0;32m   4791\u001b[0m     \u001b[38;5;28mself\u001b[39m\u001b[38;5;241m.\u001b[39m_update_inplace(obj)\n",
      "File \u001b[1;32mC:\\ProgramData\\anaconda3\\Lib\\site-packages\\pandas\\core\\generic.py:4830\u001b[0m, in \u001b[0;36mNDFrame._drop_axis\u001b[1;34m(self, labels, axis, level, errors, only_slice)\u001b[0m\n\u001b[0;32m   4828\u001b[0m         new_axis \u001b[38;5;241m=\u001b[39m axis\u001b[38;5;241m.\u001b[39mdrop(labels, level\u001b[38;5;241m=\u001b[39mlevel, errors\u001b[38;5;241m=\u001b[39merrors)\n\u001b[0;32m   4829\u001b[0m     \u001b[38;5;28;01melse\u001b[39;00m:\n\u001b[1;32m-> 4830\u001b[0m         new_axis \u001b[38;5;241m=\u001b[39m axis\u001b[38;5;241m.\u001b[39mdrop(labels, errors\u001b[38;5;241m=\u001b[39merrors)\n\u001b[0;32m   4831\u001b[0m     indexer \u001b[38;5;241m=\u001b[39m axis\u001b[38;5;241m.\u001b[39mget_indexer(new_axis)\n\u001b[0;32m   4833\u001b[0m \u001b[38;5;66;03m# Case for non-unique axis\u001b[39;00m\n\u001b[0;32m   4834\u001b[0m \u001b[38;5;28;01melse\u001b[39;00m:\n",
      "File \u001b[1;32mC:\\ProgramData\\anaconda3\\Lib\\site-packages\\pandas\\core\\indexes\\base.py:7070\u001b[0m, in \u001b[0;36mIndex.drop\u001b[1;34m(self, labels, errors)\u001b[0m\n\u001b[0;32m   7068\u001b[0m \u001b[38;5;28;01mif\u001b[39;00m mask\u001b[38;5;241m.\u001b[39many():\n\u001b[0;32m   7069\u001b[0m     \u001b[38;5;28;01mif\u001b[39;00m errors \u001b[38;5;241m!=\u001b[39m \u001b[38;5;124m\"\u001b[39m\u001b[38;5;124mignore\u001b[39m\u001b[38;5;124m\"\u001b[39m:\n\u001b[1;32m-> 7070\u001b[0m         \u001b[38;5;28;01mraise\u001b[39;00m \u001b[38;5;167;01mKeyError\u001b[39;00m(\u001b[38;5;124mf\u001b[39m\u001b[38;5;124m\"\u001b[39m\u001b[38;5;132;01m{\u001b[39;00mlabels[mask]\u001b[38;5;241m.\u001b[39mtolist()\u001b[38;5;132;01m}\u001b[39;00m\u001b[38;5;124m not found in axis\u001b[39m\u001b[38;5;124m\"\u001b[39m)\n\u001b[0;32m   7071\u001b[0m     indexer \u001b[38;5;241m=\u001b[39m indexer[\u001b[38;5;241m~\u001b[39mmask]\n\u001b[0;32m   7072\u001b[0m \u001b[38;5;28;01mreturn\u001b[39;00m \u001b[38;5;28mself\u001b[39m\u001b[38;5;241m.\u001b[39mdelete(indexer)\n",
      "\u001b[1;31mKeyError\u001b[0m: \"['Active'] not found in axis\""
     ]
    }
   ],
   "source": [
    "dtdf = dtdf.drop(columns=['Active'])\n",
    "dtdf.head()"
   ]
  },
  {
   "cell_type": "code",
   "execution_count": 49,
   "id": "3f85e514-b897-45c3-b340-49682256687a",
   "metadata": {},
   "outputs": [
    {
     "data": {
      "text/html": [
       "<div>\n",
       "<style scoped>\n",
       "    .dataframe tbody tr th:only-of-type {\n",
       "        vertical-align: middle;\n",
       "    }\n",
       "\n",
       "    .dataframe tbody tr th {\n",
       "        vertical-align: top;\n",
       "    }\n",
       "\n",
       "    .dataframe thead th {\n",
       "        text-align: right;\n",
       "    }\n",
       "</style>\n",
       "<table border=\"1\" class=\"dataframe\">\n",
       "  <thead>\n",
       "    <tr style=\"text-align: right;\">\n",
       "      <th></th>\n",
       "      <th>Confirmed</th>\n",
       "      <th>Recovered</th>\n",
       "      <th>Deaths</th>\n",
       "    </tr>\n",
       "    <tr>\n",
       "      <th>Date</th>\n",
       "      <th></th>\n",
       "      <th></th>\n",
       "      <th></th>\n",
       "    </tr>\n",
       "  </thead>\n",
       "  <tbody>\n",
       "    <tr>\n",
       "      <th>2020-01-22</th>\n",
       "      <td>555</td>\n",
       "      <td>28</td>\n",
       "      <td>17</td>\n",
       "    </tr>\n",
       "    <tr>\n",
       "      <th>2020-01-23</th>\n",
       "      <td>654</td>\n",
       "      <td>30</td>\n",
       "      <td>18</td>\n",
       "    </tr>\n",
       "    <tr>\n",
       "      <th>2020-01-24</th>\n",
       "      <td>941</td>\n",
       "      <td>36</td>\n",
       "      <td>26</td>\n",
       "    </tr>\n",
       "    <tr>\n",
       "      <th>2020-01-25</th>\n",
       "      <td>1434</td>\n",
       "      <td>39</td>\n",
       "      <td>42</td>\n",
       "    </tr>\n",
       "    <tr>\n",
       "      <th>2020-01-26</th>\n",
       "      <td>2118</td>\n",
       "      <td>52</td>\n",
       "      <td>56</td>\n",
       "    </tr>\n",
       "    <tr>\n",
       "      <th>...</th>\n",
       "      <td>...</td>\n",
       "      <td>...</td>\n",
       "      <td>...</td>\n",
       "    </tr>\n",
       "    <tr>\n",
       "      <th>2020-07-23</th>\n",
       "      <td>15510481</td>\n",
       "      <td>8710969</td>\n",
       "      <td>633506</td>\n",
       "    </tr>\n",
       "    <tr>\n",
       "      <th>2020-07-24</th>\n",
       "      <td>15791645</td>\n",
       "      <td>8939705</td>\n",
       "      <td>639650</td>\n",
       "    </tr>\n",
       "    <tr>\n",
       "      <th>2020-07-25</th>\n",
       "      <td>16047190</td>\n",
       "      <td>9158743</td>\n",
       "      <td>644517</td>\n",
       "    </tr>\n",
       "    <tr>\n",
       "      <th>2020-07-26</th>\n",
       "      <td>16251796</td>\n",
       "      <td>9293464</td>\n",
       "      <td>648621</td>\n",
       "    </tr>\n",
       "    <tr>\n",
       "      <th>2020-07-27</th>\n",
       "      <td>16480485</td>\n",
       "      <td>9468087</td>\n",
       "      <td>654036</td>\n",
       "    </tr>\n",
       "  </tbody>\n",
       "</table>\n",
       "<p>188 rows × 3 columns</p>\n",
       "</div>"
      ],
      "text/plain": [
       "            Confirmed  Recovered  Deaths\n",
       "Date                                    \n",
       "2020-01-22        555         28      17\n",
       "2020-01-23        654         30      18\n",
       "2020-01-24        941         36      26\n",
       "2020-01-25       1434         39      42\n",
       "2020-01-26       2118         52      56\n",
       "...               ...        ...     ...\n",
       "2020-07-23   15510481    8710969  633506\n",
       "2020-07-24   15791645    8939705  639650\n",
       "2020-07-25   16047190    9158743  644517\n",
       "2020-07-26   16251796    9293464  648621\n",
       "2020-07-27   16480485    9468087  654036\n",
       "\n",
       "[188 rows x 3 columns]"
      ]
     },
     "execution_count": 49,
     "metadata": {},
     "output_type": "execute_result"
    }
   ],
   "source": [
    "dtdf"
   ]
  },
  {
   "cell_type": "code",
   "execution_count": 51,
   "id": "c3a4b4a8-0490-41b6-a909-534d962a71eb",
   "metadata": {},
   "outputs": [
    {
     "name": "stderr",
     "output_type": "stream",
     "text": [
      "C:\\ProgramData\\anaconda3\\Lib\\site-packages\\statsmodels\\tsa\\base\\tsa_model.py:473: ValueWarning: No frequency information was provided, so inferred frequency D will be used.\n",
      "  self._init_dates(dates, freq)\n"
     ]
    },
    {
     "name": "stdout",
     "output_type": "stream",
     "text": [
      "Selected Lag Order by AIC: 15\n",
      "Selected Lag Order by BIC: 3\n",
      "\n",
      "Full Summary:\n",
      " VAR Order Selection (* highlights the minimums)  \n",
      "==================================================\n",
      "       AIC         BIC         FPE         HQIC   \n",
      "--------------------------------------------------\n",
      "0        75.27       75.32   4.892e+32       75.29\n",
      "1        52.49       52.71   6.262e+22       52.58\n",
      "2        51.68       52.07   2.796e+22       51.84\n",
      "3        51.50      52.05*   2.329e+22       51.72\n",
      "4        51.53       52.24   2.396e+22       51.82\n",
      "5        51.48       52.35   2.271e+22       51.83\n",
      "6        51.26       52.30   1.831e+22       51.68\n",
      "7        51.00       52.20   1.416e+22       51.49\n",
      "8        50.70       52.06   1.046e+22      51.25*\n",
      "9        50.73       52.26   1.089e+22       51.35\n",
      "10       50.71       52.41   1.067e+22       51.40\n",
      "11       50.60       52.46   9.641e+21       51.36\n",
      "12       50.64       52.67   1.007e+22       51.46\n",
      "13       50.62       52.81   9.905e+21       51.51\n",
      "14       50.53       52.88   9.089e+21       51.48\n",
      "15      50.48*       52.99  8.672e+21*       51.50\n",
      "--------------------------------------------------\n"
     ]
    }
   ],
   "source": [
    "from statsmodels.tsa.api import VAR\n",
    "\n",
    "# Instantiate the VAR model with the aggregated data\n",
    "model = VAR(dtdf)\n",
    "\n",
    "# Select the optimal lag order\n",
    "lag_order_results = model.select_order(maxlags=15)\n",
    "\n",
    "# Display the results\n",
    "print(\"Selected Lag Order by AIC:\", lag_order_results.aic)\n",
    "print(\"Selected Lag Order by BIC:\", lag_order_results.bic)\n",
    "print(\"\\nFull Summary:\")\n",
    "print(lag_order_results.summary())"
   ]
  },
  {
   "cell_type": "code",
   "execution_count": 55,
   "id": "28c0ecb9-8aac-4417-bbb9-f14406ebb347",
   "metadata": {},
   "outputs": [],
   "source": [
    "# Determine the split index\n",
    "train_size = int(0.8 * len(dtdf))\n",
    "train_data = dtdf[:train_size]  # First 80% for training\n",
    "test_data = dtdf[train_size:]  # Remaining 20% for testing"
   ]
  },
  {
   "cell_type": "code",
   "execution_count": 57,
   "id": "c36052fc-4906-47c1-8333-1bb206e59c67",
   "metadata": {},
   "outputs": [
    {
     "name": "stderr",
     "output_type": "stream",
     "text": [
      "C:\\ProgramData\\anaconda3\\Lib\\site-packages\\statsmodels\\tsa\\base\\tsa_model.py:473: ValueWarning: No frequency information was provided, so inferred frequency D will be used.\n",
      "  self._init_dates(dates, freq)\n"
     ]
    },
    {
     "name": "stdout",
     "output_type": "stream",
     "text": [
      "  Summary of Regression Results   \n",
      "==================================\n",
      "Model:                         VAR\n",
      "Method:                        OLS\n",
      "Date:           Sat, 23, Nov, 2024\n",
      "Time:                     22:15:54\n",
      "--------------------------------------------------------------------\n",
      "No. of Equations:         3.00000    BIC:                    49.6419\n",
      "Nobs:                     147.000    HQIC:                   49.2796\n",
      "Log likelihood:          -4199.57    FPE:                1.96983e+21\n",
      "AIC:                      49.0316    Det(Omega_mle):     1.61689e+21\n",
      "--------------------------------------------------------------------\n",
      "Results for equation Confirmed\n",
      "===============================================================================\n",
      "                  coefficient       std. error           t-stat            prob\n",
      "-------------------------------------------------------------------------------\n",
      "const             1556.517365      1129.318510            1.378           0.168\n",
      "L1.Confirmed         1.571880         0.103985           15.116           0.000\n",
      "L1.Recovered         0.020975         0.069908            0.300           0.764\n",
      "L1.Deaths            3.697345         1.110083            3.331           0.001\n",
      "L2.Confirmed        -0.459459         0.191120           -2.404           0.016\n",
      "L2.Recovered        -0.010907         0.087135           -0.125           0.900\n",
      "L2.Deaths           -5.910182         1.772275           -3.335           0.001\n",
      "L3.Confirmed        -0.072883         0.116708           -0.624           0.532\n",
      "L3.Recovered        -0.042086         0.072236           -0.583           0.560\n",
      "L3.Deaths            1.858055         1.011401            1.837           0.066\n",
      "===============================================================================\n",
      "\n",
      "Results for equation Recovered\n",
      "===============================================================================\n",
      "                  coefficient       std. error           t-stat            prob\n",
      "-------------------------------------------------------------------------------\n",
      "const             -171.797611      1359.582212           -0.126           0.899\n",
      "L1.Confirmed        -0.085505         0.125188           -0.683           0.495\n",
      "L1.Recovered         0.748303         0.084162            8.891           0.000\n",
      "L1.Deaths            1.900171         1.336425            1.422           0.155\n",
      "L2.Confirmed         0.117101         0.230089            0.509           0.611\n",
      "L2.Recovered         0.158153         0.104902            1.508           0.132\n",
      "L2.Deaths           -4.884255         2.133635           -2.289           0.022\n",
      "L3.Confirmed         0.044594         0.140504            0.317           0.751\n",
      "L3.Recovered         0.032469         0.086965            0.373           0.709\n",
      "L3.Deaths            2.441358         1.217622            2.005           0.045\n",
      "===============================================================================\n",
      "\n",
      "Results for equation Deaths\n",
      "===============================================================================\n",
      "                  coefficient       std. error           t-stat            prob\n",
      "-------------------------------------------------------------------------------\n",
      "const             -147.128943        94.430092           -1.558           0.119\n",
      "L1.Confirmed         0.009975         0.008695            1.147           0.251\n",
      "L1.Recovered        -0.012954         0.005845           -2.216           0.027\n",
      "L1.Deaths            1.435268         0.092822           15.463           0.000\n",
      "L2.Confirmed        -0.024018         0.015981           -1.503           0.133\n",
      "L2.Recovered        -0.002705         0.007286           -0.371           0.710\n",
      "L2.Deaths           -0.703279         0.148192           -4.746           0.000\n",
      "L3.Confirmed         0.031891         0.009759            3.268           0.001\n",
      "L3.Recovered        -0.003121         0.006040           -0.517           0.605\n",
      "L3.Deaths            0.120513         0.084570            1.425           0.154\n",
      "===============================================================================\n",
      "\n",
      "Correlation matrix of residuals\n",
      "             Confirmed  Recovered    Deaths\n",
      "Confirmed     1.000000   0.025217  0.532113\n",
      "Recovered     0.025217   1.000000  0.000286\n",
      "Deaths        0.532113   0.000286  1.000000\n",
      "\n",
      "\n",
      "\n"
     ]
    }
   ],
   "source": [
    "from statsmodels.tsa.api import VAR\n",
    "\n",
    "# Create and fit the VAR model using training data\n",
    "model = VAR(train_data)\n",
    "lag_order = 3\n",
    "var_model = model.fit(lag_order)\n",
    "\n",
    "print(var_model.summary())"
   ]
  },
  {
   "cell_type": "code",
   "execution_count": 59,
   "id": "cd0f424c-e56c-40a0-bfd1-a58cb2421d77",
   "metadata": {},
   "outputs": [],
   "source": [
    "# Forecast for the number of steps in the test dataset\n",
    "forecast = var_model.forecast(y=train_data.values[-lag_order:], steps=len(test_data))\n",
    "\n",
    "# Convert forecast to DataFrame\n",
    "forecast_df = pd.DataFrame(forecast, index=test_data.index, columns=test_data.columns)"
   ]
  },
  {
   "cell_type": "code",
   "execution_count": 63,
   "id": "8f589b8a-804c-4618-ab72-b6331a72cbd0",
   "metadata": {},
   "outputs": [
    {
     "data": {
      "text/html": [
       "<div>\n",
       "<style scoped>\n",
       "    .dataframe tbody tr th:only-of-type {\n",
       "        vertical-align: middle;\n",
       "    }\n",
       "\n",
       "    .dataframe tbody tr th {\n",
       "        vertical-align: top;\n",
       "    }\n",
       "\n",
       "    .dataframe thead th {\n",
       "        text-align: right;\n",
       "    }\n",
       "</style>\n",
       "<table border=\"1\" class=\"dataframe\">\n",
       "  <thead>\n",
       "    <tr style=\"text-align: right;\">\n",
       "      <th></th>\n",
       "      <th>Confirmed</th>\n",
       "      <th>Recovered</th>\n",
       "      <th>Deaths</th>\n",
       "    </tr>\n",
       "    <tr>\n",
       "      <th>Date</th>\n",
       "      <th></th>\n",
       "      <th></th>\n",
       "      <th></th>\n",
       "    </tr>\n",
       "  </thead>\n",
       "  <tbody>\n",
       "    <tr>\n",
       "      <th>2020-06-20</th>\n",
       "      <td>8.824691e+06</td>\n",
       "      <td>4.283273e+06</td>\n",
       "      <td>466577.401121</td>\n",
       "    </tr>\n",
       "    <tr>\n",
       "      <th>2020-06-21</th>\n",
       "      <td>9.000161e+06</td>\n",
       "      <td>4.380217e+06</td>\n",
       "      <td>470897.760503</td>\n",
       "    </tr>\n",
       "    <tr>\n",
       "      <th>2020-06-22</th>\n",
       "      <td>9.172993e+06</td>\n",
       "      <td>4.481566e+06</td>\n",
       "      <td>475359.393004</td>\n",
       "    </tr>\n",
       "    <tr>\n",
       "      <th>2020-06-23</th>\n",
       "      <td>9.349386e+06</td>\n",
       "      <td>4.590701e+06</td>\n",
       "      <td>480664.100851</td>\n",
       "    </tr>\n",
       "    <tr>\n",
       "      <th>2020-06-24</th>\n",
       "      <td>9.532831e+06</td>\n",
       "      <td>4.703360e+06</td>\n",
       "      <td>486874.477865</td>\n",
       "    </tr>\n",
       "  </tbody>\n",
       "</table>\n",
       "</div>"
      ],
      "text/plain": [
       "               Confirmed     Recovered         Deaths\n",
       "Date                                                 \n",
       "2020-06-20  8.824691e+06  4.283273e+06  466577.401121\n",
       "2020-06-21  9.000161e+06  4.380217e+06  470897.760503\n",
       "2020-06-22  9.172993e+06  4.481566e+06  475359.393004\n",
       "2020-06-23  9.349386e+06  4.590701e+06  480664.100851\n",
       "2020-06-24  9.532831e+06  4.703360e+06  486874.477865"
      ]
     },
     "execution_count": 63,
     "metadata": {},
     "output_type": "execute_result"
    }
   ],
   "source": [
    "forecast_df.head()"
   ]
  },
  {
   "cell_type": "code",
   "execution_count": 65,
   "id": "a4547edd-dc59-4630-8344-59054af964b8",
   "metadata": {},
   "outputs": [
    {
     "data": {
      "text/plain": [
       "Confirmed    0\n",
       "Recovered    0\n",
       "Deaths       0\n",
       "dtype: int64"
      ]
     },
     "execution_count": 65,
     "metadata": {},
     "output_type": "execute_result"
    }
   ],
   "source": [
    "forecast_df.isnull().sum()"
   ]
  },
  {
   "cell_type": "code",
   "execution_count": 67,
   "id": "9adb3931-b0e8-4fbb-8785-117ca32c6ae4",
   "metadata": {},
   "outputs": [
    {
     "data": {
      "text/html": [
       "<div>\n",
       "<style scoped>\n",
       "    .dataframe tbody tr th:only-of-type {\n",
       "        vertical-align: middle;\n",
       "    }\n",
       "\n",
       "    .dataframe tbody tr th {\n",
       "        vertical-align: top;\n",
       "    }\n",
       "\n",
       "    .dataframe thead th {\n",
       "        text-align: right;\n",
       "    }\n",
       "</style>\n",
       "<table border=\"1\" class=\"dataframe\">\n",
       "  <thead>\n",
       "    <tr style=\"text-align: right;\">\n",
       "      <th></th>\n",
       "      <th>MAE</th>\n",
       "      <th>MSE</th>\n",
       "      <th>R²</th>\n",
       "    </tr>\n",
       "  </thead>\n",
       "  <tbody>\n",
       "    <tr>\n",
       "      <th>Confirmed</th>\n",
       "      <td>1.255458e+06</td>\n",
       "      <td>2.934251e+12</td>\n",
       "      <td>0.445340</td>\n",
       "    </tr>\n",
       "    <tr>\n",
       "      <th>Recovered</th>\n",
       "      <td>2.283173e+05</td>\n",
       "      <td>1.173227e+11</td>\n",
       "      <td>0.951134</td>\n",
       "    </tr>\n",
       "    <tr>\n",
       "      <th>Deaths</th>\n",
       "      <td>9.215411e+04</td>\n",
       "      <td>1.608147e+10</td>\n",
       "      <td>-4.201950</td>\n",
       "    </tr>\n",
       "  </tbody>\n",
       "</table>\n",
       "</div>"
      ],
      "text/plain": [
       "                    MAE           MSE        R²\n",
       "Confirmed  1.255458e+06  2.934251e+12  0.445340\n",
       "Recovered  2.283173e+05  1.173227e+11  0.951134\n",
       "Deaths     9.215411e+04  1.608147e+10 -4.201950"
      ]
     },
     "execution_count": 67,
     "metadata": {},
     "output_type": "execute_result"
    }
   ],
   "source": [
    "from sklearn.metrics import mean_absolute_error, mean_squared_error, r2_score\n",
    "\n",
    "# Initialize a dictionary to store the results\n",
    "metrics = {}\n",
    "\n",
    "# Loop through each column in the dataset\n",
    "for column in test_data.columns:\n",
    "    actual = test_data[column]\n",
    "    predicted = forecast_df[column]\n",
    "    \n",
    "    # Compute evaluation metrics\n",
    "    mae = mean_absolute_error(actual, predicted)\n",
    "    mse = mean_squared_error(actual, predicted)\n",
    "    r2 = r2_score(actual, predicted)\n",
    "    \n",
    "    # Store the results\n",
    "    metrics[column] = {'MAE': mae, 'MSE': mse, 'R²': r2}\n",
    "\n",
    "# Display the metrics\n",
    "metrics_df = pd.DataFrame(metrics).T\n",
    "metrics_df\n"
   ]
  },
  {
   "cell_type": "code",
   "execution_count": 69,
   "id": "109cd096-49b7-4850-8112-0459a5e2b6f4",
   "metadata": {},
   "outputs": [
    {
     "data": {
      "image/png": "[encoded data removed]",
      "text/plain": [
       "<Figure size 1000x600 with 1 Axes>"
      ]
     },
     "metadata": {},
     "output_type": "display_data"
    },
    {
     "data": {
      "image/png": "[encoded data removed]",
      "text/plain": [
       "<Figure size 1000x600 with 1 Axes>"
      ]
     },
     "metadata": {},
     "output_type": "display_data"
    },
    {
     "data": {
      "image/png": "[encoded data removed]",
      "text/plain": [
       "<Figure size 1000x600 with 1 Axes>"
      ]
     },
     "metadata": {},
     "output_type": "display_data"
    }
   ],
   "source": [
    "# Plot actual vs forecast for each column\n",
    "for column in test_data.columns:\n",
    "    plt.figure(figsize=(10, 6))\n",
    "    plt.plot(test_data.index, test_data[column], label='Actual', color='blue')\n",
    "    plt.plot(forecast_df.index, forecast_df[column], label='Forecast', color='red', linestyle='--')\n",
    "    plt.title(f'Actual vs Forecast for {column}')\n",
    "    plt.legend()\n",
    "    plt.show()"
   ]
  },
  {
   "cell_type": "code",
   "execution_count": null,
   "id": "2443b2ea-ccd5-4a3e-82d9-3b040c4dbff7",
   "metadata": {},
   "outputs": [],
   "source": []
  }
 ],
 "metadata": {
  "kernelspec": {
   "display_name": "Python 3 (ipykernel)",
   "language": "python",
   "name": "python3"
  },
  "language_info": {
   "codemirror_mode": {
    "name": "ipython",
    "version": 3
   },
   "file_extension": ".py",
   "mimetype": "text/x-python",
   "name": "python",
   "nbconvert_exporter": "python",
   "pygments_lexer": "ipython3",
   "version": "3.12.4"
  }
 },
 "nbformat": 4,
 "nbformat_minor": 5
}
